{
  "nbformat": 4,
  "nbformat_minor": 0,
  "metadata": {
    "colab": {
      "provenance": [],
      "authorship_tag": "ABX9TyP4SM9Tc+oZzlkheYNawXX1",
      "include_colab_link": true
    },
    "kernelspec": {
      "name": "python3",
      "display_name": "Python 3"
    },
    "language_info": {
      "name": "python"
    }
  },
  "cells": [
    {
      "cell_type": "markdown",
      "metadata": {
        "id": "view-in-github",
        "colab_type": "text"
      },
      "source": [
        "<a href=\"https://colab.research.google.com/github/emmiwarford/emmiwarford.github.io/blob/main/FriendshipWarford.ipynb\" target=\"_parent\"><img src=\"https://colab.research.google.com/assets/colab-badge.svg\" alt=\"Open In Colab\"/></a>"
      ]
    },
    {
      "cell_type": "markdown",
      "source": [
        "Emmi Warford\n",
        "10/20/24\n",
        "Midterm - Friendship App"
      ],
      "metadata": {
        "id": "fRaV9OSBKQJ7"
      }
    },
    {
      "cell_type": "code",
      "execution_count": 8,
      "metadata": {
        "colab": {
          "base_uri": "https://localhost:8080/"
        },
        "id": "TrxOOQjqKG_P",
        "outputId": "007f26f9-91b8-47a1-da00-d78540c77344"
      },
      "outputs": [
        {
          "output_type": "stream",
          "name": "stdout",
          "text": [
            "Welcome to the Friendship App!\n",
            "Would you like to check for a new friend? (yes/no): yes\n",
            "Enter your name: Emmi\n",
            "Enter your age: 25\n",
            "Enter your monthly income: 0\n",
            "Enter your major: comp sci\n",
            "Enter the name of your college: flc\n",
            "Do you have any pets? If not, do you like animals? (yes/no): yes\n",
            "Let's be friends, Emmi !\n",
            "Would you like to check for a new friend? (yes/no): yes\n",
            "Enter your name: Emmi\n",
            "Enter your age: 19\n",
            "Enter your monthly income: 0\n",
            "Enter your major: english\n",
            "Enter the name of your college: flc\n",
            "Do you have any pets? If not, do you like animals? (yes/no): no\n",
            "Sorry, Emmi . We're not a good fit friendship at this time.\n",
            "Would you like to check for a new friend? (yes/no): no\n",
            "You chose not to check for a new friend. Goodbye!\n"
          ]
        }
      ],
      "source": [
        "# Friendship App to check compatability with a potential new friend\n",
        "\n",
        "# Main Function which starts the program and calls all other functions\n",
        "def main():\n",
        "# This function displays the welcome banner and asks the user if they'd like to check a new friend\n",
        "# Contains a loop which gives the user three chances to check a new friend\n",
        "# Calls the friendship function within the loop\n",
        "\n",
        "  print(\"Welcome to the Friendship App!\")  # Welcome banner\n",
        "\n",
        "  # Loop to give the user three chances to check a new friend\n",
        "  for attempt in range(3):\n",
        "    response = input(\"Would you like to check for a new friend? (yes/no): \").strip().lower()  # .strip removes blank spaces and .lower forces characters to be lowercase to standardize the user input so it will work with our functions\n",
        "    if response == 'yes':\n",
        "      friendship()  # Calls the friendship function to check a new friend\n",
        "    else:\n",
        "      print(\"You chose not to check for a new friend. Goodbye!\")\n",
        "      break  # Exits the loop\n",
        "\n",
        "# Friendship Function\n",
        "# This function calls other functions in order to collect user inputs and save data to appropriate variables\n",
        "# Then it calls function figureFriend, passing through the relevant parameters, to check compatability for frienship\n",
        "# Finally it calls function displayResults, passing through the relevant parameters, to display the results of the friendship checker\n",
        "def friendship():\n",
        "  # Calls the getName function and stores the response in variable 'user_name'\n",
        "  user_name = getName()\n",
        "  # Calls the getAge function and stores the response in variable 'user_age'\n",
        "  user_age = getAge()\n",
        "  # Calls the getIncome function and stores the response in variable 'user_income'\n",
        "  user_income = getIncome()\n",
        "  # Calls the getMajor function and stores the response in variable 'user_major'\n",
        "  user_major = getMajor()\n",
        "  # Calls the getCollege function and stores the response in variable 'user_college'\n",
        "  user_college = getCollege()\n",
        "  # Calls the getInterest function and stores the response in variable 'user_interest'\n",
        "  user_interest = getInterest()\n",
        "  # Calls the getPets function and stores the response in variable 'user_pet'\n",
        "  user_pets = getPets()\n",
        "  # Calls function figureFriend, passes through the appropriate paramaters, and saves the returned boolean value in \"is_friend\"\n",
        "  is_friend = figureFriend(user_age, user_income, user_major, user_college, user_interest, user_pets)\n",
        "  # Calls the displayResults function and passes through the needed paramaters of user_name and is_friend\n",
        "  displayResults(user_name, is_friend)\n",
        "\n",
        "# Function to get name from user\n",
        "def getName():\n",
        "  name = input(\"Enter your name: \")  # Retrieves a name from the user\n",
        "  return name  # Stores user response in variable 'name'\n",
        "\n",
        "# Function to get age from user\n",
        "def getAge():\n",
        "  age = int(input(\"Enter your age: \"))  # Retrieves an age from the user as an integer\n",
        "  return age  # Stores user response in variable 'age'\n",
        "\n",
        "# Function to get income from user\n",
        "def getIncome():\n",
        "  income = float(input(\"Enter your monthly income: \")) # Retrieves income from the user as float\n",
        "  return income  # Stores user response in variable 'income'\n",
        "\n",
        "# Function to get major from user\n",
        "def getMajor():\n",
        "  major = input(\"Enter your major: \").strip().lower() # Retrieves a major from the user\n",
        "  return major  # Stores user response in variable 'major'\n",
        "\n",
        "# Function to get college from user\n",
        "def getCollege():\n",
        "  college = input(\"Enter the name of your college: \").strip().lower() # Retrieves a college from the user\n",
        "  return college  # Stores user response in variable 'college'\n",
        "\n",
        "# Function to get interest from user\n",
        "def getInterest():\n",
        "  interest = (\"Enter an interest or hobby of yours: \").strip().lower() # Retrieves an interest from the user\n",
        "  return interest  # Stores user response in variable 'interest'\n",
        "\n",
        "# Boolean function to find out if the user has pets or likes animals\n",
        "def getPets():\n",
        "  has_pets = input(\"Do you have any pets? If not, do you like animals? (yes/no): \").strip().lower() == 'yes'\n",
        "  return has_pets # returns has_pets as True if user answers yes\n",
        "\n",
        "# Function to determine whether or not user is compatible for friendship\n",
        "def figureFriend(age, income, major, college, interest, pets):  # Passes through parameters to be tested in the function\n",
        "# Asseses if the user is 20 or older, attends FLC, and if they entered a non-negative number for income\n",
        "  if (age > 19 and income >= 0) and (college == \"flc\" or college == \"folsome lake college\" or college == \"folsom lake\"):\n",
        "    # Asseses if the user has pets and is taking a similar major\n",
        "    if pets and (major == \"computer science\" or major == \"comp sci\" or major == \"math\"):\n",
        "        return True  # Saves the value True in variable 'is_friend'\n",
        "    # Asseses if user has similar interests\n",
        "    elif interest == \"crochet\" or interest == \"dnd\" or interest == \"dungeons and dragons\" or interest == \"d&d\" or interest == \"fiber arts\":\n",
        "        return True  # Saves the value True in variable 'is_friend'\n",
        "    else:\n",
        "        return False  # If the previous conditions are not met, value False is stored in variable 'is_friend'\n",
        "\n",
        "# Function to display results\n",
        "def displayResults(name, is_friend):  # Passes through variables name and is_friend for the if/else statement and print statements\n",
        "    if is_friend:  # Checks if 'is_friend' is True or False\n",
        "        print(\"Let's be friends, \" +name,\"!\")\n",
        "    else:\n",
        "        print(\"Sorry, \" +name, \". We're not a good fit friendship at this time.\")\n",
        "\n",
        "# Call main function to start the program\n",
        "main()\n"
      ]
    },
    {
      "cell_type": "code",
      "source": [],
      "metadata": {
        "id": "qWoCu-P2D-Vi"
      },
      "execution_count": null,
      "outputs": []
    }
  ]
}